{
 "cells": [
  {
   "cell_type": "code",
   "execution_count": 444,
   "metadata": {},
   "outputs": [],
   "source": [
    "import torch\n",
    "import torch.nn as nn"
   ]
  },
  {
   "cell_type": "code",
   "execution_count": 445,
   "metadata": {},
   "outputs": [],
   "source": [
    "import pandas as pd\n",
    "import numpy as np\n",
    "import matplotlib.pyplot as plt"
   ]
  },
  {
   "cell_type": "code",
   "execution_count": 446,
   "metadata": {},
   "outputs": [],
   "source": [
    "train_data=pd.read_csv(\"CPI/data/CPI.csv\",encoding=\"gbk\")\n"
   ]
  },
  {
   "cell_type": "code",
   "execution_count": 447,
   "metadata": {},
   "outputs": [
    {
     "name": "stdout",
     "output_type": "stream",
     "text": [
      "(36, 8)\n",
      "(3, 8)\n"
     ]
    }
   ],
   "source": [
    "print(train_data.shape)\n",
    "print(test_data.shape)"
   ]
  },
  {
   "cell_type": "code",
   "execution_count": 448,
   "metadata": {},
   "outputs": [
    {
     "data": {
      "text/html": [
       "<div>\n",
       "<style scoped>\n",
       "    .dataframe tbody tr th:only-of-type {\n",
       "        vertical-align: middle;\n",
       "    }\n",
       "\n",
       "    .dataframe tbody tr th {\n",
       "        vertical-align: top;\n",
       "    }\n",
       "\n",
       "    .dataframe thead th {\n",
       "        text-align: right;\n",
       "    }\n",
       "</style>\n",
       "<table border=\"1\" class=\"dataframe\">\n",
       "  <thead>\n",
       "    <tr style=\"text-align: right;\">\n",
       "      <th></th>\n",
       "      <th>食品类</th>\n",
       "      <th>粮食类</th>\n",
       "      <th>畜肉类</th>\n",
       "      <th>蛋类</th>\n",
       "      <th>水产品</th>\n",
       "      <th>鲜菜类</th>\n",
       "      <th>鲜果类</th>\n",
       "      <th>CPI</th>\n",
       "    </tr>\n",
       "  </thead>\n",
       "  <tbody>\n",
       "    <tr>\n",
       "      <th>0</th>\n",
       "      <td>99.5</td>\n",
       "      <td>101.2</td>\n",
       "      <td>94.1</td>\n",
       "      <td>114.2</td>\n",
       "      <td>102.4</td>\n",
       "      <td>94.2</td>\n",
       "      <td>106.4</td>\n",
       "      <td>101.5</td>\n",
       "    </tr>\n",
       "    <tr>\n",
       "      <th>1</th>\n",
       "      <td>104.4</td>\n",
       "      <td>101.1</td>\n",
       "      <td>96.9</td>\n",
       "      <td>122.5</td>\n",
       "      <td>108.7</td>\n",
       "      <td>117.7</td>\n",
       "      <td>108.7</td>\n",
       "      <td>102.9</td>\n",
       "    </tr>\n",
       "    <tr>\n",
       "      <th>2</th>\n",
       "      <td>102.1</td>\n",
       "      <td>101.1</td>\n",
       "      <td>93.9</td>\n",
       "      <td>117.6</td>\n",
       "      <td>105.6</td>\n",
       "      <td>108.8</td>\n",
       "      <td>107.4</td>\n",
       "      <td>102.1</td>\n",
       "    </tr>\n",
       "    <tr>\n",
       "      <th>3</th>\n",
       "      <td>100.7</td>\n",
       "      <td>101.0</td>\n",
       "      <td>91.2</td>\n",
       "      <td>114.9</td>\n",
       "      <td>102.8</td>\n",
       "      <td>108.2</td>\n",
       "      <td>104.2</td>\n",
       "      <td>101.8</td>\n",
       "    </tr>\n",
       "    <tr>\n",
       "      <th>4</th>\n",
       "      <td>100.1</td>\n",
       "      <td>100.9</td>\n",
       "      <td>90.7</td>\n",
       "      <td>120.8</td>\n",
       "      <td>100.6</td>\n",
       "      <td>110.0</td>\n",
       "      <td>97.3</td>\n",
       "      <td>101.8</td>\n",
       "    </tr>\n",
       "  </tbody>\n",
       "</table>\n",
       "</div>"
      ],
      "text/plain": [
       "     食品类    粮食类   畜肉类     蛋类    水产品    鲜菜类    鲜果类    CPI\n",
       "0   99.5  101.2  94.1  114.2  102.4   94.2  106.4  101.5\n",
       "1  104.4  101.1  96.9  122.5  108.7  117.7  108.7  102.9\n",
       "2  102.1  101.1  93.9  117.6  105.6  108.8  107.4  102.1\n",
       "3  100.7  101.0  91.2  114.9  102.8  108.2  104.2  101.8\n",
       "4  100.1  100.9  90.7  120.8  100.6  110.0   97.3  101.8"
      ]
     },
     "execution_count": 448,
     "metadata": {},
     "output_type": "execute_result"
    }
   ],
   "source": [
    "train_data.head()\n",
    "#2018年1月---2020年12月"
   ]
  },
  {
   "cell_type": "code",
   "execution_count": 449,
   "metadata": {},
   "outputs": [],
   "source": [
    "food=torch.tensor(train_data[\"食品类\"])\n",
    "cereals=torch.tensor(train_data[\"粮食类\"])\n",
    "meat=torch.tensor(train_data[\"畜肉类\"])\n",
    "egg=torch.tensor(train_data[\"蛋类\"])\n",
    "water=torch.tensor(train_data[\"水产品\"])\n",
    "vegetable=torch.tensor(train_data[\"鲜菜类\"])\n",
    "fruit=torch.tensor(train_data[\"鲜果类\"])\n",
    "cpi=torch.tensor(train_data[\"CPI\"])"
   ]
  },
  {
   "cell_type": "code",
   "execution_count": 450,
   "metadata": {},
   "outputs": [
    {
     "data": {
      "text/plain": [
       "tensor([101.5000, 102.9000, 102.1000, 101.8000, 101.8000, 101.9000, 102.1000,\n",
       "        102.3000, 102.5000, 102.5000, 102.2000, 101.9000, 101.7000, 101.5000,\n",
       "        102.3000, 102.5000, 102.7000, 102.7000, 102.8000, 102.8000, 103.0000,\n",
       "        103.8000, 104.5000, 104.5000, 105.4000, 105.2000, 104.3000, 103.3000,\n",
       "        102.4000, 102.5000, 102.7000, 102.4000, 101.7000, 100.5000,  99.5000,\n",
       "        100.2000])"
      ]
     },
     "execution_count": 450,
     "metadata": {},
     "output_type": "execute_result"
    }
   ],
   "source": [
    "cpi"
   ]
  },
  {
   "cell_type": "code",
   "execution_count": 451,
   "metadata": {},
   "outputs": [],
   "source": [
    "per_data=[]\n",
    "for i in train_data.columns:\n",
    "    per_data.append(torch.tensor(train_data[i]))"
   ]
  },
  {
   "cell_type": "code",
   "execution_count": 452,
   "metadata": {},
   "outputs": [],
   "source": [
    "class PearsonCorrelation(nn.Module):\n",
    "    def forward(self,tensor_1,tensor_2):\n",
    "        x = tensor_1\n",
    "        y = tensor_2\n",
    "\n",
    "        vx = x - torch.mean(x)\n",
    "        vy = y - torch.mean(y)\n",
    "\n",
    "        cost = torch.sum(vx * vy) / (torch.sqrt(torch.sum(vx ** 2)) * torch.sqrt(torch.sum(vy ** 2)))\n",
    "        return cost\n",
    "\n",
    "pearson=PearsonCorrelation()\n",
    "# PC=pearson(food,cpi)\n",
    "# print(PC)"
   ]
  },
  {
   "cell_type": "code",
   "execution_count": 453,
   "metadata": {},
   "outputs": [],
   "source": [
    "pc_list=[]\n",
    "for i in per_data:\n",
    "\n",
    "    result=pearson(i,cpi)\n",
    "    pc_list.append(result)"
   ]
  },
  {
   "cell_type": "code",
   "execution_count": 454,
   "metadata": {},
   "outputs": [
    {
     "data": {
      "text/plain": [
       "[tensor(0.8719),\n",
       " tensor(-0.3969),\n",
       " tensor(0.7811),\n",
       " tensor(0.2888),\n",
       " tensor(0.2089),\n",
       " tensor(-0.0601),\n",
       " tensor(-0.1384),\n",
       " tensor(1.)]"
      ]
     },
     "execution_count": 454,
     "metadata": {},
     "output_type": "execute_result"
    }
   ],
   "source": [
    "pc_list"
   ]
  },
  {
   "cell_type": "code",
   "execution_count": 455,
   "metadata": {},
   "outputs": [],
   "source": [
    "adj_gre=np.zeros(shape=(8,8),dtype=np.double)"
   ]
  },
  {
   "cell_type": "code",
   "execution_count": 456,
   "metadata": {},
   "outputs": [],
   "source": [
    "for i in range(8):\n",
    "    adj_gre[i][i]=1\n",
    "    adj_gre[7][i]=pc_list[i]\n",
    "    adj_gre[i][7]=pc_list[i]  "
   ]
  },
  {
   "cell_type": "code",
   "execution_count": 457,
   "metadata": {},
   "outputs": [
    {
     "data": {
      "text/plain": [
       "(8, 8)"
      ]
     },
     "execution_count": 457,
     "metadata": {},
     "output_type": "execute_result"
    }
   ],
   "source": [
    "adj_gre.shape"
   ]
  },
  {
   "cell_type": "code",
   "execution_count": 458,
   "metadata": {},
   "outputs": [],
   "source": [
    "adj_gre=pd.DataFrame(adj_gre)"
   ]
  },
  {
   "cell_type": "markdown",
   "metadata": {},
   "source": [
    "# 邻接矩阵"
   ]
  },
  {
   "cell_type": "code",
   "execution_count": 459,
   "metadata": {},
   "outputs": [],
   "source": [
    "adj=torch.from_numpy(adj_gre.values)"
   ]
  },
  {
   "cell_type": "code",
   "execution_count": 460,
   "metadata": {},
   "outputs": [],
   "source": [
    "x_train=train_data.values\n",
    "x_train=torch.from_numpy(x_train)\n",
    "x_train=x_train.t()"
   ]
  },
  {
   "cell_type": "code",
   "execution_count": 461,
   "metadata": {},
   "outputs": [
    {
     "data": {
      "text/plain": [
       "tensor([[ 99.5000, 104.4000, 102.1000, 100.7000, 100.1000, 100.3000, 100.5000,\n",
       "         101.7000, 103.6000, 103.3000, 102.5000, 102.5000, 101.9000, 100.7000,\n",
       "         104.1000, 106.1000, 107.7000, 108.3000, 109.1000, 110.0000, 111.2000,\n",
       "         115.5000, 119.1000, 117.4000, 120.6000, 121.9000, 118.3000, 114.8000,\n",
       "         110.6000, 111.1000, 113.2000, 111.2000, 107.9000, 102.2000,  98.0000,\n",
       "         101.2000],\n",
       "        [101.2000, 101.1000, 101.1000, 101.0000, 100.9000, 100.7000, 100.6000,\n",
       "         100.5000, 100.5000, 100.6000, 100.6000, 100.5000, 100.5000, 100.5000,\n",
       "         100.4000, 100.4000, 100.5000, 100.6000, 100.6000, 100.7000, 100.6000,\n",
       "         100.5000, 100.7000, 100.6000, 100.5000, 100.7000, 100.7000, 101.2000,\n",
       "         101.5000, 101.6000, 101.6000, 101.5000, 101.5000, 101.5000, 101.4000,\n",
       "         101.4000],\n",
       "        [ 94.1000,  96.9000,  93.9000,  91.2000,  90.7000,  93.2000,  95.1000,\n",
       "          98.0000,  99.6000, 100.4000, 100.8000, 100.8000, 100.2000,  99.1000,\n",
       "         104.7000, 110.1000, 112.5000, 114.4000, 118.2000, 130.9000, 146.9000,\n",
       "         166.8000, 174.5000, 166.4000, 176.7000, 187.6000, 178.0000, 166.7000,\n",
       "         157.4000, 157.4000, 161.1000, 142.0000, 122.6000, 102.0000,  92.7000,\n",
       "         100.6000],\n",
       "        [114.2000, 122.5000, 117.6000, 114.9000, 120.8000, 115.1000, 111.7000,\n",
       "         110.2000, 107.1000, 108.5000, 106.4000, 100.7000, 100.3000,  95.3000,\n",
       "          98.1000, 103.7000, 108.7000, 106.2000, 110.5000, 103.6000, 108.2000,\n",
       "         110.4000, 110.1000, 106.2000, 102.4000, 101.0000, 101.9000,  97.3000,\n",
       "          87.7000,  86.4000,  85.5000,  89.0000,  84.2000,  83.7000,  82.9000,\n",
       "          89.2000],\n",
       "        [102.4000, 108.7000, 105.6000, 102.8000, 100.6000, 100.3000, 100.1000,\n",
       "         100.9000, 101.2000, 100.8000, 102.0000, 102.0000, 101.2000,  97.5000,\n",
       "          97.0000,  98.6000,  99.6000,  99.5000, 100.2000, 101.5000, 102.9000,\n",
       "         102.7000, 102.4000, 101.3000, 103.8000, 102.8000, 102.8000, 102.3000,\n",
       "         103.7000, 104.8000, 104.7000, 103.4000, 102.6000, 102.5000, 101.0000,\n",
       "         101.7000],\n",
       "        [ 94.2000, 117.7000, 108.8000, 108.2000, 110.0000, 109.3000, 103.8000,\n",
       "         104.3000, 114.6000, 110.1000, 101.5000, 104.2000, 103.8000, 101.7000,\n",
       "         116.2000, 117.4000, 113.3000, 104.2000, 105.2000,  99.2000,  88.2000,\n",
       "          89.8000, 103.9000, 110.8000, 117.1000, 110.9000,  99.9000,  96.3000,\n",
       "          91.5000, 104.2000, 107.9000, 111.7000, 117.2000, 116.7000, 108.6000,\n",
       "         106.5000],\n",
       "        [106.4000, 108.7000, 107.4000, 104.2000,  97.3000,  94.7000, 100.4000,\n",
       "         105.5000, 110.2000, 111.5000, 113.3000, 109.4000, 105.9000, 104.8000,\n",
       "         107.7000, 111.9000, 126.7000, 142.7000, 139.1000, 124.0000, 107.7000,\n",
       "          99.7000,  93.2000,  92.0000,  95.0000,  94.4000,  93.9000,  89.5000,\n",
       "          80.7000,  71.0000,  72.3000,  80.2000,  93.1000, 100.4000, 103.6000,\n",
       "         106.5000],\n",
       "        [101.5000, 102.9000, 102.1000, 101.8000, 101.8000, 101.9000, 102.1000,\n",
       "         102.3000, 102.5000, 102.5000, 102.2000, 101.9000, 101.7000, 101.5000,\n",
       "         102.3000, 102.5000, 102.7000, 102.7000, 102.8000, 102.8000, 103.0000,\n",
       "         103.8000, 104.5000, 104.5000, 105.4000, 105.2000, 104.3000, 103.3000,\n",
       "         102.4000, 102.5000, 102.7000, 102.4000, 101.7000, 100.5000,  99.5000,\n",
       "         100.2000]], dtype=torch.float64)"
      ]
     },
     "execution_count": 461,
     "metadata": {},
     "output_type": "execute_result"
    }
   ],
   "source": [
    "x_train"
   ]
  },
  {
   "cell_type": "code",
   "execution_count": 462,
   "metadata": {},
   "outputs": [],
   "source": [
    "from sklearn.preprocessing import MinMaxScaler\n",
    "train_data_normalized_list=[]\n",
    "scaler = MinMaxScaler(feature_range=(-1, 1))\n",
    "for i in x_train:\n",
    "    train_data_normalized = scaler.fit_transform(i.reshape(-1, 1))\n",
    "    train_data_normalized_list.append(train_data_normalized)"
   ]
  },
  {
   "cell_type": "code",
   "execution_count": 463,
   "metadata": {},
   "outputs": [
    {
     "name": "stdout",
     "output_type": "stream",
     "text": [
      "(36, 1)\n",
      "(36, 1)\n",
      "(36, 1)\n",
      "(36, 1)\n",
      "(36, 1)\n",
      "(36, 1)\n",
      "(36, 1)\n",
      "(36, 1)\n"
     ]
    }
   ],
   "source": [
    "for i in train_data_normalized_list:\n",
    "    print(i.shape)"
   ]
  },
  {
   "cell_type": "code",
   "execution_count": 464,
   "metadata": {},
   "outputs": [],
   "source": [
    "train_window = 6\n",
    "def create_inout_sequences(input_data, tw):\n",
    "    inout_seq = []\n",
    "    lables_list=[]\n",
    "    L = len(input_data)\n",
    "    print(L)\n",
    "    for i in range(L-tw):\n",
    "        train_seq = input_data[i:i+tw]\n",
    "        train_label = input_data[i+tw:i+tw+1]\n",
    "        inout_seq.append(train_seq)\n",
    "        lables_list.append(train_label)\n",
    "    return inout_seq,lables_list"
   ]
  },
  {
   "cell_type": "code",
   "execution_count": 465,
   "metadata": {},
   "outputs": [
    {
     "name": "stdout",
     "output_type": "stream",
     "text": [
      "36\n",
      "36\n",
      "36\n",
      "36\n",
      "36\n",
      "36\n",
      "36\n",
      "36\n"
     ]
    }
   ],
   "source": [
    "train_inout_seq_list=[]\n",
    "train_labels=[]\n",
    "for i in train_data_normalized_list:\n",
    "    \n",
    "    train_inout_seq,labels = create_inout_sequences(i, train_window)\n",
    "    train_inout_seq_list.append(train_inout_seq)\n",
    "    train_labels.append(labels)"
   ]
  },
  {
   "cell_type": "code",
   "execution_count": 468,
   "metadata": {},
   "outputs": [],
   "source": [
    "allData=np.concatenate(train_inout_seq_list,axis=2).transpose(0,2,1) #(30, 8, 6)\n",
    "allLabel=np.reshape(np.concatenate(train_labels,axis=2).transpose(0,2,1)[ : ,-1: , : ],(-1,1))     #(30, 8, 1)"
   ]
  },
  {
   "cell_type": "code",
   "execution_count": 469,
   "metadata": {},
   "outputs": [],
   "source": [
    "trainData=allData[:-6,:,:]\n",
    "trainLabel=allLabel[:-6,:]\n",
    "testData=allData[-6:,:,:]\n",
    "testLabel=allLabel[-6:,:]"
   ]
  },
  {
   "cell_type": "code",
   "execution_count": 470,
   "metadata": {},
   "outputs": [
    {
     "data": {
      "text/plain": [
       "(6, 8, 6)"
      ]
     },
     "execution_count": 470,
     "metadata": {},
     "output_type": "execute_result"
    }
   ],
   "source": [
    "testData.shape"
   ]
  },
  {
   "cell_type": "markdown",
   "metadata": {},
   "source": [
    "# 定义dataset"
   ]
  },
  {
   "cell_type": "code",
   "execution_count": 471,
   "metadata": {},
   "outputs": [],
   "source": [
    "from torch.utils import data\n",
    "class MyDataset(data.Dataset):\n",
    "    def __init__(self,trainData,trainLabel):\n",
    "        self.Data=trainData\n",
    "        self.label=trainLabel\n",
    "    def __getitem__(self,index):\n",
    "        txt=torch.from_numpy(self.Data[index])\n",
    "        label=torch.from_numpy(self.label[index])\n",
    "        return txt,label\n",
    "    def __len__(self):\n",
    "        return len(self.Data)"
   ]
  },
  {
   "cell_type": "code",
   "execution_count": 472,
   "metadata": {},
   "outputs": [],
   "source": [
    "data_set=MyDataset(trainData,trainLabel)\n",
    "train_loader=data.DataLoader(data_set,6)"
   ]
  },
  {
   "cell_type": "code",
   "execution_count": 473,
   "metadata": {},
   "outputs": [],
   "source": [
    "import torch.nn.functional as F\n",
    "class GCN(nn.Module):\n",
    "\n",
    "    def __init__(self, in_dim, out_dim):\n",
    "        super(GCN, self).__init__()\n",
    "        self.proj = nn.Linear(in_dim, out_dim)\n",
    "\n",
    "    def forward(self, g, h):\n",
    "        h=torch.reshape(h,(8,-1))\n",
    "        h = torch.matmul(g, h)\n",
    "        h = self.proj(h)\n",
    "        \n",
    "        return h"
   ]
  },
  {
   "cell_type": "code",
   "execution_count": 474,
   "metadata": {},
   "outputs": [],
   "source": [
    "from torch import nn\n",
    "from torch.autograd import Variable\n",
    "\n",
    "class lstm(nn.Module):\n",
    "    def __init__(self,input_size=2,hidden_size=4,output_size=1,num_layer=2):\n",
    "        super(lstm,self).__init__()\n",
    "        self.layer1 = nn.LSTM(input_size,hidden_size,num_layer)\n",
    "        self.layer2 = nn.Linear(hidden_size,output_size)\n",
    "    \n",
    "    def forward(self,x):\n",
    "        x,_ = self.layer1(x)\n",
    "        s,b,h = x.size()\n",
    "        x = x.view(s*b,h)\n",
    "        x = self.layer2(x)\n",
    "        return x\n",
    "\n",
    "model = lstm(6, 4,1,2).double()"
   ]
  },
  {
   "cell_type": "code",
   "execution_count": 475,
   "metadata": {},
   "outputs": [],
   "source": [
    "\n",
    "class Pool(nn.Module):\n",
    "\n",
    "    def __init__(self, k, in_dim, p):\n",
    "        super(Pool, self).__init__()\n",
    "        self.k = k\n",
    "        self.sigmoid = nn.Sigmoid()\n",
    "        self.proj = nn.Linear(in_dim, 1)\n",
    "        self.drop = nn.Dropout(p=p) if p > 0 else nn.Identity()\n",
    "\n",
    "    def forward(self, g, h):\n",
    "        Z = self.drop(h)\n",
    "        weights = self.proj(Z).squeeze()\n",
    "        scores = self.sigmoid(weights)\n",
    "        return top_k_graph(scores, g, h, self.k)\n",
    "def top_k_graph(scores, g, h, k):\n",
    "    num_nodes = g.shape[0]\n",
    "    values, idx = torch.topk(scores, max(0, int(k*num_nodes)))\n",
    "    new_h = h[idx, :]\n",
    "    values = torch.unsqueeze(values, -1)\n",
    "    new_h = torch.mul(new_h, values)\n",
    "    un_g = g.float()\n",
    "    un_g = torch.matmul(un_g, un_g).float()\n",
    "    un_g = un_g[idx, :]\n",
    "    un_g = un_g[:, idx]\n",
    "    g = norm_g(un_g)\n",
    "    return g, new_h, idx\n",
    "\n",
    "\n",
    "def norm_g(g):\n",
    "    degrees = torch.sum(g, 1)\n",
    "    g = g / degrees\n",
    "    return g"
   ]
  },
  {
   "cell_type": "code",
   "execution_count": 476,
   "metadata": {},
   "outputs": [],
   "source": [
    "\n",
    "\n",
    "\n",
    "\n",
    "class model(nn.Module):\n",
    "    def __init__(self,in_dim,out_dim):\n",
    "        super(model, self).__init__()\n",
    "        self.gcn=GCN(36,36)\n",
    "        self.LSTM=lstm(6, 4,1,2)\n",
    "        self.pool=Pool(0.2,36,0.3)\n",
    "        \n",
    "    def forward(self,adj,x):\n",
    "        x=self.gcn(adj,x)\n",
    "        _,x,_=self.pool(adj,x)\n",
    "        x=torch.reshape(x,(6,1,6))\n",
    "        x=self.LSTM(x)\n",
    "        return x\n",
    "\n",
    "\n",
    "net=model(1,1).double()\n",
    "\n",
    "\n",
    "    \n",
    "    \n",
    "    "
   ]
  },
  {
   "cell_type": "code",
   "execution_count": 477,
   "metadata": {},
   "outputs": [
    {
     "name": "stdout",
     "output_type": "stream",
     "text": [
      "epoch:   1 loss: 0.18740343\n",
      "epoch:  26 loss: 0.01873259\n",
      "epoch:  51 loss: 0.00117613\n",
      "epoch:  76 loss: 0.00015081\n",
      "epoch: 101 loss: 0.00061976\n",
      "epoch: 126 loss: 0.00005253\n",
      "epoch: 151 loss: 0.00000681\n",
      "epoch: 176 loss: 0.00000921\n"
     ]
    }
   ],
   "source": [
    "criterion = nn.MSELoss()\n",
    "optimizer = torch.optim.Adam(net.parameters(), lr=1e-2)\n",
    "loss_function=torch.nn.MSELoss()\n",
    "\n",
    "                \n",
    "for epoch in range(200):\n",
    "\n",
    "    for i,traindata in enumerate(train_loader):\n",
    "        data,label=traindata\n",
    "        optimizer.zero_grad()\n",
    "        y_pred = net(adj,data)\n",
    "        \n",
    "        single_loss = loss_function(y_pred, label)\n",
    "        single_loss.backward()\n",
    "        optimizer.step()\n",
    "    if epoch%25 == 1:\n",
    "        print(f'epoch: {epoch:3} loss: {single_loss.item():10.8f}')"
   ]
  },
  {
   "cell_type": "code",
   "execution_count": 478,
   "metadata": {},
   "outputs": [
    {
     "name": "stdout",
     "output_type": "stream",
     "text": [
      "tensor([[[ 0.8912,  1.0000,  0.6987,  0.4059,  0.0544,  0.0962],\n",
      "         [-0.8333, -0.5000, -0.5000,  0.3333,  0.8333,  1.0000],\n",
      "         [ 0.7750,  1.0000,  0.8019,  0.5686,  0.3767,  0.3767],\n",
      "         [-0.0152, -0.0859, -0.0404, -0.2727, -0.7576, -0.8232],\n",
      "         [ 0.1624, -0.0085, -0.0085, -0.0940,  0.1453,  0.3333],\n",
      "         [ 0.9593,  0.5390, -0.2068, -0.4508, -0.7763,  0.0847],\n",
      "         [-0.3305, -0.3473, -0.3612, -0.4840, -0.7294, -1.0000],\n",
      "         [ 1.0000,  0.9322,  0.6271,  0.2881, -0.0169,  0.0169]],\n",
      "\n",
      "        [[ 1.0000,  0.6987,  0.4059,  0.0544,  0.0962,  0.2720],\n",
      "         [-0.5000, -0.5000,  0.3333,  0.8333,  1.0000,  1.0000],\n",
      "         [ 1.0000,  0.8019,  0.5686,  0.3767,  0.3767,  0.4530],\n",
      "         [-0.0859, -0.0404, -0.2727, -0.7576, -0.8232, -0.8687],\n",
      "         [-0.0085, -0.0085, -0.0940,  0.1453,  0.3333,  0.3162],\n",
      "         [ 0.5390, -0.2068, -0.4508, -0.7763,  0.0847,  0.3356],\n",
      "         [-0.3473, -0.3612, -0.4840, -0.7294, -1.0000, -0.9637],\n",
      "         [ 0.9322,  0.6271,  0.2881, -0.0169,  0.0169,  0.0847]],\n",
      "\n",
      "        [[ 0.6987,  0.4059,  0.0544,  0.0962,  0.2720,  0.1046],\n",
      "         [-0.5000,  0.3333,  0.8333,  1.0000,  1.0000,  0.8333],\n",
      "         [ 0.8019,  0.5686,  0.3767,  0.3767,  0.4530,  0.0588],\n",
      "         [-0.0404, -0.2727, -0.7576, -0.8232, -0.8687, -0.6919],\n",
      "         [-0.0085, -0.0940,  0.1453,  0.3333,  0.3162,  0.0940],\n",
      "         [-0.2068, -0.4508, -0.7763,  0.0847,  0.3356,  0.5932],\n",
      "         [-0.3612, -0.4840, -0.7294, -1.0000, -0.9637, -0.7434],\n",
      "         [ 0.6271,  0.2881, -0.0169,  0.0169,  0.0847, -0.0169]],\n",
      "\n",
      "        [[ 0.4059,  0.0544,  0.0962,  0.2720,  0.1046, -0.1715],\n",
      "         [ 0.3333,  0.8333,  1.0000,  1.0000,  0.8333,  0.8333],\n",
      "         [ 0.5686,  0.3767,  0.3767,  0.4530,  0.0588, -0.3416],\n",
      "         [-0.2727, -0.7576, -0.8232, -0.8687, -0.6919, -0.9343],\n",
      "         [-0.0940,  0.1453,  0.3333,  0.3162,  0.0940, -0.0427],\n",
      "         [-0.4508, -0.7763,  0.0847,  0.3356,  0.5932,  0.9661],\n",
      "         [-0.4840, -0.7294, -1.0000, -0.9637, -0.7434, -0.3835],\n",
      "         [ 0.2881, -0.0169,  0.0169,  0.0847, -0.0169, -0.2542]],\n",
      "\n",
      "        [[ 0.0544,  0.0962,  0.2720,  0.1046, -0.1715, -0.6485],\n",
      "         [ 0.8333,  1.0000,  1.0000,  0.8333,  0.8333,  0.8333],\n",
      "         [ 0.3767,  0.3767,  0.4530,  0.0588, -0.3416, -0.7668],\n",
      "         [-0.7576, -0.8232, -0.8687, -0.6919, -0.9343, -0.9596],\n",
      "         [ 0.1453,  0.3333,  0.3162,  0.0940, -0.0427, -0.0598],\n",
      "         [-0.7763,  0.0847,  0.3356,  0.5932,  0.9661,  0.9322],\n",
      "         [-0.7294, -1.0000, -0.9637, -0.7434, -0.3835, -0.1799],\n",
      "         [-0.0169,  0.0169,  0.0847, -0.0169, -0.2542, -0.6610]],\n",
      "\n",
      "        [[ 0.0962,  0.2720,  0.1046, -0.1715, -0.6485, -1.0000],\n",
      "         [ 1.0000,  1.0000,  0.8333,  0.8333,  0.8333,  0.6667],\n",
      "         [ 0.3767,  0.4530,  0.0588, -0.3416, -0.7668, -0.9587],\n",
      "         [-0.8232, -0.8687, -0.6919, -0.9343, -0.9596, -1.0000],\n",
      "         [ 0.3333,  0.3162,  0.0940, -0.0427, -0.0598, -0.3162],\n",
      "         [ 0.0847,  0.3356,  0.5932,  0.9661,  0.9322,  0.3831],\n",
      "         [-1.0000, -0.9637, -0.7434, -0.3835, -0.1799, -0.0907],\n",
      "         [ 0.0169,  0.0847, -0.0169, -0.2542, -0.6610, -1.0000]]],\n",
      "       dtype=torch.float64)\n"
     ]
    }
   ],
   "source": [
    "fut_pred = 6\n",
    "\n",
    "test_inputs = torch.tensor(testData)\n",
    "test_label=testLabel\n",
    "print(test_inputs)"
   ]
  },
  {
   "cell_type": "code",
   "execution_count": 479,
   "metadata": {},
   "outputs": [],
   "source": [
    "net.eval()\n",
    "out=net(adj,test_inputs)\n"
   ]
  },
  {
   "cell_type": "code",
   "execution_count": 480,
   "metadata": {},
   "outputs": [
    {
     "data": {
      "text/plain": [
       "tensor([[ 0.7162],\n",
       "        [ 0.2394],\n",
       "        [ 0.3423],\n",
       "        [ 0.3021],\n",
       "        [-0.0110],\n",
       "        [-0.0136]], dtype=torch.float64, grad_fn=<AddmmBackward>)"
      ]
     },
     "execution_count": 480,
     "metadata": {},
     "output_type": "execute_result"
    }
   ],
   "source": [
    "out"
   ]
  },
  {
   "cell_type": "code",
   "execution_count": 481,
   "metadata": {},
   "outputs": [
    {
     "name": "stdout",
     "output_type": "stream",
     "text": [
      "[[104.56264697]\n",
      " [103.15631267]\n",
      " [103.45964003]\n",
      " [103.34110134]\n",
      " [102.4176418 ]\n",
      " [102.40983929]]\n",
      "[[102.7]\n",
      " [102.4]\n",
      " [101.7]\n",
      " [100.5]\n",
      " [ 99.5]\n",
      " [100.2]]\n"
     ]
    }
   ],
   "source": [
    "actual_predictions = scaler.inverse_transform(out.detach().numpy()).reshape(-1, 1)\n",
    "print(actual_predictions)\n",
    "\n",
    "\n",
    "actual_label = scaler.inverse_transform(test_label[-fut_pred:]).reshape(-1, 1)\n",
    "print(actual_label)"
   ]
  },
  {
   "cell_type": "code",
   "execution_count": 482,
   "metadata": {},
   "outputs": [
    {
     "data": {
      "image/png": "[encoded data removed]",
      "text/plain": [
       "<Figure size 432x288 with 1 Axes>"
      ]
     },
     "metadata": {
      "needs_background": "light"
     },
     "output_type": "display_data"
    }
   ],
   "source": [
    "x = np.arange(6)\n",
    "plt.title('month')\n",
    "plt.ylabel('value')\n",
    "plt.grid(True)\n",
    "plt.autoscale(axis='x', tight=True)\n",
    "\n",
    "plt.plot(actual_label)\n",
    "plt.plot(x,actual_predictions)\n",
    "plt.show()"
   ]
  },
  {
   "cell_type": "code",
   "execution_count": 483,
   "metadata": {},
   "outputs": [
    {
     "name": "stdout",
     "output_type": "stream",
     "text": [
      "          食品类       粮食类       畜肉类        蛋类       水产品       鲜菜类       鲜果类  \\\n",
      "食品类  1.000000 -0.049342  0.968985 -0.138444  0.283271 -0.126693 -0.316258   \n",
      "粮食类 -0.049342  1.000000  0.083879 -0.568630  0.546963  0.021034 -0.553972   \n",
      "畜肉类  0.968985  0.083879  1.000000 -0.264655  0.315073 -0.257918 -0.479992   \n",
      "蛋类  -0.138444 -0.568630 -0.264655  1.000000  0.010994 -0.062610  0.430803   \n",
      "水产品  0.283271  0.546963  0.315073  0.010994  1.000000 -0.048382 -0.430206   \n",
      "鲜菜类 -0.126693  0.021034 -0.257918 -0.062610 -0.048382  1.000000  0.035114   \n",
      "鲜果类 -0.316258 -0.553972 -0.479992  0.430803 -0.430206  0.035114  1.000000   \n",
      "CPI  0.871921 -0.396855  0.781103  0.288810  0.208899 -0.060072 -0.138362   \n",
      "\n",
      "          CPI  \n",
      "食品类  0.871921  \n",
      "粮食类 -0.396855  \n",
      "畜肉类  0.781103  \n",
      "蛋类   0.288810  \n",
      "水产品  0.208899  \n",
      "鲜菜类 -0.060072  \n",
      "鲜果类 -0.138362  \n",
      "CPI  1.000000  \n"
     ]
    },
    {
     "data": {
      "text/plain": [
       "Text(0.5, 15.28125, 'region')"
      ]
     },
     "execution_count": 483,
     "metadata": {},
     "output_type": "execute_result"
    },
    {
     "data": {
      "image/png": "[encoded data removed]",
      "text/plain": [
       "<Figure size 432x288 with 2 Axes>"
      ]
     },
     "metadata": {
      "needs_background": "light"
     },
     "output_type": "display_data"
    }
   ],
   "source": [
    "\n",
    "import matplotlib.pyplot as plt\n",
    "import seaborn as sns\n",
    "\n",
    "\n",
    "plt.rcParams['font.sans-serif']=['SimHei'] #用来正常显示中文标签\n",
    "plt.rcParams['axes.unicode_minus']=False #用来正常显示负号\n",
    "\n",
    "\n",
    "f, (ax2) = plt.subplots(figsize = (6,4),nrows=1)\n",
    " \n",
    "# cmap用cubehelix map颜色\n",
    "#cmap = sns.cubehelix_palette(start = 1.5, rot = 3, gamma=0.8, as_cmap = True)\n",
    "pt = train_data.corr()   # pt为数据框或者是协方差矩阵\n",
    "print(pt)\n",
    "# sns.heatmap(pt, linewidths = 0.05, ax = ax1, vmax=1.5, vmin=-1, cmap=cmap)\n",
    "# ax1.set_title('cubehelix map')\n",
    "# ax1.set_xlabel('')\n",
    "# ax1.set_xticklabels([]) #设置x轴图例为空值\n",
    "# ax1.set_ylabel('kind')\n",
    " \n",
    "# cmap用matplotlib colormap\n",
    "sns.heatmap(pt, linewidths = 0.05, ax = ax2, vmax=1.5, vmin=-1, cmap='rainbow') \n",
    "# rainbow为 matplotlib 的colormap名称\n",
    "ax2.set_title('matplotlib colormap')\n",
    "ax2.set_xlabel('region')\n"
   ]
  },
  {
   "cell_type": "code",
   "execution_count": null,
   "metadata": {},
   "outputs": [],
   "source": []
  }
 ],
 "metadata": {
  "kernelspec": {
   "display_name": "Python [conda env:torch]",
   "language": "python",
   "name": "conda-env-torch-py"
  },
  "language_info": {
   "codemirror_mode": {
    "name": "ipython",
    "version": 3
   },
   "file_extension": ".py",
   "mimetype": "text/x-python",
   "name": "python",
   "nbconvert_exporter": "python",
   "pygments_lexer": "ipython3",
   "version": "3.7.9"
  }
 },
 "nbformat": 4,
 "nbformat_minor": 2
}
